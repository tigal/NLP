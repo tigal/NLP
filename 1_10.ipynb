{
 "cells": [
  {
   "cell_type": "markdown",
   "source": [
    "## Самостоятельная работа."
   ],
   "metadata": {
    "collapsed": false
   }
  },
  {
   "cell_type": "markdown",
   "source": [
    "Данные data.tsv - вопросы с StackOverflow.\n",
    "\n",
    "Одна строка - один вопрос.\n",
    "\n",
    "Ответить на вопросы: \n",
    "- Два самых близких текста по Жакару, Левинштайну, Косинусному расстоянию.\n",
    "- Найти тексты, в которых: больше всего существительных, прилагательных, глаголов. \n",
    "- Найти тексты самые близкие по трем расстояниям и найти разницу, что и как ищется. "
   ],
   "metadata": {
    "collapsed": false
   }
  },
  {
   "cell_type": "code",
   "execution_count": 1,
   "outputs": [],
   "source": [
    "import pandas as pd\n",
    "df = pd.read_csv(\"/home/galina/Documents/stings/data.tsv\", sep='\\t', header=0)\n",
    "df = df.head(500)"
   ],
   "metadata": {
    "collapsed": false,
    "pycharm": {
     "name": "#%%\n",
     "is_executing": false
    }
   }
  },
  {
   "cell_type": "markdown",
   "source": [
    "#### 1. Самые близкие тексты\n",
    "Levenshtein distance"
   ],
   "metadata": {
    "collapsed": false,
    "pycharm": {
     "name": "#%% md\n"
    }
   }
  },
  {
   "cell_type": "code",
   "execution_count": 7,
   "outputs": [
    {
     "name": "stdout",
     "text": [
      "0.72 \n How to import data from excel to mysql database using php \n How to display data from mysql database in table using pyqt?\n"
     ],
     "output_type": "stream"
    }
   ],
   "source": [
    "from fuzzywuzzy import fuzz\n",
    "\n",
    "max_Lev = 0\n",
    "max_a = ''\n",
    "max_b = ''\n",
    "\n",
    "for index, row in df.iterrows():\n",
    "    for index1, compare_row in df.iterrows():\n",
    "        if row[0] == compare_row[0]:\n",
    "            continue\n",
    "        Lev = fuzz.ratio(row[0],compare_row[0])\n",
    "        if Lev > max_Lev:\n",
    "            max_Lev = Lev\n",
    "            max_a =row[0] \n",
    "            max_b = compare_row[0]\n",
    "            \n",
    "print(max_Lev/100, '\\n', max_a, '\\n', max_b)"
   ],
   "metadata": {
    "collapsed": false,
    "pycharm": {
     "name": "#%%\n",
     "is_executing": false
    }
   }
  },
  {
   "cell_type": "markdown",
   "source": [
    "Jaccard similarity"
   ],
   "metadata": {
    "collapsed": false,
    "pycharm": {
     "name": "#%% md\n"
    }
   }
  },
  {
   "cell_type": "code",
   "execution_count": 8,
   "outputs": [
    {
     "name": "stdout",
     "text": [
      "0.5 \n How to import data from excel to mysql database using php \n How to display data from mysql database in table using pyqt?\n"
     ],
     "output_type": "stream"
    }
   ],
   "source": [
    "def get_jaccard_sim(str1, str2): \n",
    "    a = set(str1.split()) \n",
    "    b = set(str2.split())\n",
    "    c = a.intersection(b)\n",
    "    return float(len(c)) / (len(a) + len(b) - len(c))\n",
    "\n",
    "max_jac = 0\n",
    "\n",
    "for index, row in df.iterrows():\n",
    "    for index1, compare_row in df.iterrows():\n",
    "        if row[0] == compare_row[0]:\n",
    "            continue\n",
    "        jc = get_jaccard_sim(row[0], compare_row[0])\n",
    "        if jc > max_jac:\n",
    "            max_jac = jc \n",
    "            max_a = row[0] \n",
    "            max_b = compare_row[0]\n",
    "            \n",
    "print(max_jac, '\\n', max_a, '\\n', max_b)"
   ],
   "metadata": {
    "collapsed": false,
    "pycharm": {
     "name": "#%%\n",
     "is_executing": false
    }
   }
  },
  {
   "cell_type": "markdown",
   "source": [
    "Cosine similarity"
   ],
   "metadata": {
    "collapsed": false,
    "pycharm": {
     "name": "#%% md\n"
    }
   }
  },
  {
   "cell_type": "code",
   "execution_count": 4,
   "outputs": [
    {
     "name": "stdout",
     "text": [
      "0.6689936080056726 \n How to import data from excel to mysql database using php \n How to display data from mysql database in table using pyqt?\n"
     ],
     "output_type": "stream"
    }
   ],
   "source": [
    "from collections import Counter\n",
    "import math,re\n",
    "\n",
    "max_cos = 0\n",
    "WORD = re.compile(r'\\w+')\n",
    "\n",
    "def get_cosine(vec1, vec2):\n",
    "     intersection = set(vec1.keys()) & set(vec2.keys())\n",
    "     numerator = sum([vec1[x] * vec2[x] for x in intersection])\n",
    "\n",
    "     sum1 = sum([vec1[x]**2 for x in vec1.keys()])\n",
    "     sum2 = sum([vec2[x]**2 for x in vec2.keys()])\n",
    "     denominator = math.sqrt(sum1) * math.sqrt(sum2)\n",
    "\n",
    "     if not denominator:\n",
    "        return 0.0\n",
    "     else:\n",
    "        return float(numerator) / denominator\n",
    "\n",
    "\n",
    "def text_to_vector(text):\n",
    "     words = WORD.findall(text)\n",
    "     return Counter(words)\n",
    "\n",
    "\n",
    "for index, row in df.iterrows():\n",
    "    for index1, compare_row in df.iterrows():\n",
    "        if row[0] == compare_row[0]:\n",
    "            continue\n",
    "        cos = get_cosine(text_to_vector(row[0]), text_to_vector(compare_row[0]))\n",
    "        if cos > max_cos:\n",
    "            max_cos = cos \n",
    "            max_a =row[0] \n",
    "            max_b = compare_row[0]\n",
    "\n",
    "print(max_cos, '\\n', max_a, '\\n', max_b)"
   ],
   "metadata": {
    "collapsed": false,
    "pycharm": {
     "name": "#%%\n",
     "is_executing": false
    }
   }
  },
  {
   "cell_type": "markdown",
   "source": [
    "#### 2. Количество частей речи"
   ],
   "metadata": {
    "collapsed": false,
    "pycharm": {
     "name": "#%% md\n"
    }
   }
  },
  {
   "cell_type": "code",
   "execution_count": 5,
   "outputs": [
    {
     "name": "stdout",
     "text": [
      "Noun max count:\n",
      "8\nBetter way to execute ruby file using Python and How to get ruby console output when ruby file is run from python?\nValueError: time data '2012-07-19 08:24:00' does not match format '%Y-%m-%d H:M:S'\nAdjective max count:\n",
      "6\nError when uploading new iPad app version: \"iPad: application executable contains unsupported architecture(s): i386\"\nVerb max count:\n",
      "4\nWhy does sapply return a matrix that I need to transpose, and then the transposed matrix will not attach to a dataframe?\n"
     ],
     "output_type": "stream"
    }
   ],
   "source": [
    "import nltk\n",
    "\n",
    "def find_words_in_list(word):\n",
    "    max_c = 0\n",
    "    txt = []\n",
    "    for index, row in df.iterrows():\n",
    "        c = 0\n",
    "        a = nltk.pos_tag(nltk.word_tokenize(row[0])) \n",
    "        c = len([i[0] for i in a if i[1] == word])\n",
    "        if c > max_c:\n",
    "            txt = []\n",
    "            txt.append(row[0])\n",
    "            max_c = c\n",
    "        elif c == max_c:\n",
    "            txt.append(row[0])\n",
    "    print(max_c)\n",
    "    for i in txt:\n",
    "        print(i)\n",
    "\n",
    "print('Noun max count:')\n",
    "find_words_in_list('NN')\n",
    "print('Adjective max count:')\n",
    "find_words_in_list('JJ')\n",
    "print('Verb max count:')\n",
    "find_words_in_list('VB')"
   ],
   "metadata": {
    "collapsed": false,
    "pycharm": {
     "name": "#%%\n",
     "is_executing": false
    }
   }
  },
  {
   "cell_type": "markdown",
   "source": [
    "#### 3. Близкие тексты по трем расстояниям\n",
    "\n",
    "По всем трем расстояниям самые близкие тексты из рассмотренных 500 оказались наиболее схожими одни и те же тексты.\n",
    "\n",
    "-- Levenshtein distance - минимальное число изменения символов, необходимых для транформации одного слова в другой.\n",
    "\n",
    "В пакете fuzzywuzzy - 100 означает абсолютное сходство, для аналогии с другими расстояними результат дополнительно разделен на 100.\n",
    "\n",
    "-- Cosine distance - скалярное произведение векторов текстов. 1 - абсолютное сходство\n",
    "\n",
    "-- Jaccard similarity - количество общих слов к общему количеству слов. 1 - абсолютное сходство. Работает с множествами.\n",
    "\n"
   ],
   "metadata": {
    "collapsed": false
   }
  }
 ],
 "metadata": {
  "kernelspec": {
   "name": "pycharm-c261373",
   "language": "python",
   "display_name": "PyCharm (un7)"
  },
  "language_info": {
   "codemirror_mode": {
    "name": "ipython",
    "version": 2
   },
   "file_extension": ".py",
   "mimetype": "text/x-python",
   "name": "python",
   "nbconvert_exporter": "python",
   "pygments_lexer": "ipython2",
   "version": "2.7.6"
  },
  "pycharm": {
   "stem_cell": {
    "cell_type": "raw",
    "source": [],
    "metadata": {
     "collapsed": false
    }
   }
  }
 },
 "nbformat": 4,
 "nbformat_minor": 0
}