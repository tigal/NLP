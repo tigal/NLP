{
 "cells": [
  {
   "cell_type": "markdown",
   "source": [
    "### TF-IDF realization\n",
    "\n",
    "Initialize TF calculation, IDF calculation, TF-IDF calculation"
   ],
   "metadata": {
    "collapsed": false
   }
  },
  {
   "cell_type": "code",
   "execution_count": 1,
   "metadata": {
    "collapsed": true,
    "pycharm": {
     "is_executing": false
    }
   },
   "outputs": [],
   "source": [
    "import collections\n",
    "import math\n",
    "\n",
    "\n",
    "def tf(doc):\n",
    "    tf_text = collections.Counter(doc)\n",
    "    for i in tf_text:\n",
    "        tf_text[i] = tf_text[i]/float(len(doc))\n",
    "    return tf_text\n",
    "\n",
    "\n",
    "def idf(word, docs):\n",
    "    cnt = 0\n",
    "    for d in docs:\n",
    "        if word in d:\n",
    "            cnt += 1\n",
    "    return math.log10(len(docs)/cnt)\n",
    "\n",
    "\n",
    "def tf_idf(docs):\n",
    "    tf_idf_list = []\n",
    "    for doc in docs:\n",
    "        tf_idf_doc_list = {}\n",
    "        tf_doc = tf(doc)\n",
    "        for word in tf_doc:\n",
    "            tf_idf_doc_list[word] = tf_doc[word] * idf(word, docs)\n",
    "        tf_idf_list.append(tf_idf_doc_list)\n",
    "    return tf_idf_list"
   ]
  },
  {
   "cell_type": "markdown",
   "source": [
    "Result on example"
   ],
   "metadata": {
    "collapsed": false,
    "pycharm": {
     "name": "#%% md\n"
    }
   }
  },
  {
   "cell_type": "code",
   "execution_count": 2,
   "outputs": [
    {
     "name": "stdout",
     "text": [
      "[{'baby': 0.0, 'sweet': 0.0, 'my': 0.11928031367991561}, {'I': 0.09542425094393249, 'sweet': 0.0, 'miss': 0.09542425094393249, 'kiss': 0.0, 'baby': 0.0}, {'love': 0.07952020911994373, 'sweet': 0.0, 'your': 0.07952020911994373, 'better': 0.07952020911994373, 'kiss': 0.0, 'than': 0.07952020911994373}]\n"
     ],
     "output_type": "stream"
    }
   ],
   "source": [
    "docs_list = [['baby', 'my', 'sweet', 'baby'],\n",
    "['sweet', 'kiss', 'I', 'miss', 'baby'],\n",
    "['your', 'sweet', 'love', 'better', 'than', 'kiss']]\n",
    "print(tf_idf(docs_list))"
   ],
   "metadata": {
    "collapsed": false,
    "pycharm": {
     "name": "#%%\n",
     "is_executing": false
    }
   }
  }
 ],
 "metadata": {
  "kernelspec": {
   "display_name": "Python 3",
   "language": "python",
   "name": "python3"
  },
  "language_info": {
   "codemirror_mode": {
    "name": "ipython",
    "version": 2
   },
   "file_extension": ".py",
   "mimetype": "text/x-python",
   "name": "python",
   "nbconvert_exporter": "python",
   "pygments_lexer": "ipython2",
   "version": "2.7.6"
  },
  "pycharm": {
   "stem_cell": {
    "cell_type": "raw",
    "source": [],
    "metadata": {
     "collapsed": false
    }
   }
  }
 },
 "nbformat": 4,
 "nbformat_minor": 0
}