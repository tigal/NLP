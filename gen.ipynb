{
 "cells": [
  {
   "cell_type": "markdown",
   "source": [
    "### Use gensim package\n",
    "\n",
    "Tokenization and stoplist"
   ],
   "metadata": {
    "collapsed": false,
    "pycharm": {
     "name": "#%% md\n"
    }
   }
  },
  {
   "cell_type": "code",
   "execution_count": 27,
   "metadata": {
    "collapsed": true,
    "pycharm": {
     "is_executing": false
    }
   },
   "outputs": [
    {
     "name": "stdout",
     "text": [
      "[['life'],\n ['better', 'beach'],\n ['better', 'swimming', 'beach'],\n ['swimming', 'nlp', 'life'],\n ['nlp']]\n"
     ],
     "output_type": "stream"
    }
   ],
   "source": [
    "from collections import defaultdict\n",
    "from pprint import pprint\n",
    "\n",
    "docs_list = [\"I want to study NLP's techniques, isn't it? My life is boring\",\n",
    "             \"I'm not sure in it, it's better to go on the beach\",\n",
    "             \"Better do swimming and lay on the beach\",\n",
    "             \"Swimming is life, NLP is life\",\n",
    "             \"When I first did NLP stuff I was young... Really young\"]\n",
    "\n",
    "stoplist = set('i the in to is on'.split())\n",
    "texts = [[word for word in document.lower().split() if word not in stoplist]\n",
    "         for document in docs_list]\n",
    "\n",
    "frequency = defaultdict(int)\n",
    "for text in texts:\n",
    "    for token in text:\n",
    "        frequency[token] += 1\n",
    "\n",
    "texts = [[token for token in text if frequency[token] > 1] for text in texts]\n",
    "\n",
    "pprint(texts)"
   ]
  },
  {
   "cell_type": "markdown",
   "source": [
    "Unique tokens"
   ],
   "metadata": {
    "collapsed": false,
    "pycharm": {
     "name": "#%% md\n",
     "is_executing": false
    }
   }
  },
  {
   "cell_type": "code",
   "execution_count": 28,
   "outputs": [
    {
     "name": "stdout",
     "text": [
      "Dictionary(5 unique tokens: ['life', 'beach', 'better', 'swimming', 'nlp'])\n"
     ],
     "output_type": "stream"
    }
   ],
   "source": [
    "from gensim import corpora\n",
    "dictionary = corpora.Dictionary(texts)\n",
    "print(dictionary)"
   ],
   "metadata": {
    "collapsed": false,
    "pycharm": {
     "name": "#%%\n",
     "is_executing": false
    }
   }
  },
  {
   "cell_type": "markdown",
   "source": [
    "BOW"
   ],
   "metadata": {
    "collapsed": false,
    "pycharm": {
     "name": "#%% md\n",
     "is_executing": false
    }
   }
  },
  {
   "cell_type": "code",
   "execution_count": 29,
   "outputs": [
    {
     "name": "stdout",
     "text": [
      "[(0, 1)]\n[(1, 1), (2, 1)]\n[(1, 1), (2, 1), (3, 1)]\n[(0, 1), (3, 1), (4, 1)]\n[(4, 1)]\n"
     ],
     "output_type": "stream"
    }
   ],
   "source": [
    "corpus = [dictionary.doc2bow(text) for text in texts]\n",
    "for c in corpus:\n",
    "    print(c)"
   ],
   "metadata": {
    "collapsed": false,
    "pycharm": {
     "name": "#%%\n",
     "is_executing": false
    }
   }
  },
  {
   "cell_type": "markdown",
   "source": [
    "Stemming"
   ],
   "metadata": {
    "collapsed": false,
    "pycharm": {
     "name": "#%% md\n",
     "is_executing": false
    }
   }
  },
  {
   "cell_type": "code",
   "execution_count": 30,
   "outputs": [
    {
     "name": "stdout",
     "text": [
      "[\"i want to studi nlp' techniques, isn't it? my life is bore\",\n \"i'm not sure in it, it' better to go on the beach\",\n 'better do swim and lai on the beach',\n 'swim is life, nlp is life',\n 'when i first did nlp stuff i wa young... realli young']\n"
     ],
     "output_type": "stream"
    }
   ],
   "source": [
    "from gensim.parsing.porter import PorterStemmer\n",
    "p = PorterStemmer()\n",
    "pprint(p.stem_documents(docs_list))"
   ],
   "metadata": {
    "collapsed": false,
    "pycharm": {
     "name": "#%%\n",
     "is_executing": false
    }
   }
  },
  {
   "cell_type": "markdown",
   "source": [
    "Lemmatization"
   ],
   "metadata": {
    "collapsed": false,
    "pycharm": {
     "name": "#%% md\n",
     "is_executing": false
    }
   }
  },
  {
   "cell_type": "code",
   "execution_count": 31,
   "outputs": [
    {
     "name": "stdout",
     "text": [
      "[b'want/VB', b'study/VB', b'nlp/RB', b'technique/NN', b'isn/JJ', b'life/NN', b'be/VB', b'bore/VB']\n[b'not/RB', b'sure/JJ', b'better/JJ', b'go/VB', b'beach/NN']\n[b'better/RB', b'do/VB', b'swimming/NN', b'lay/VB', b'beach/NN']\n[b'swimming/NN', b'be/VB', b'life/NN', b'nlp/NN', b'be/VB', b'life/NN']\n[b'first/JJ', b'do/VB', b'nlp/JJ', b'stuff/NN', b'be/VB', b'young/JJ', b'really/RB', b'young/JJ']\n"
     ],
     "output_type": "stream"
    }
   ],
   "source": [
    "from gensim import utils\n",
    "for d in docs_list:\n",
    "    print(utils.lemmatize(d))"
   ],
   "metadata": {
    "collapsed": false,
    "pycharm": {
     "name": "#%%\n",
     "is_executing": false
    }
   }
  }
 ],
 "metadata": {
  "kernelspec": {
   "name": "pycharm-c261373",
   "language": "python",
   "display_name": "PyCharm (un7)"
  },
  "language_info": {
   "codemirror_mode": {
    "name": "ipython",
    "version": 2
   },
   "file_extension": ".py",
   "mimetype": "text/x-python",
   "name": "python",
   "nbconvert_exporter": "python",
   "pygments_lexer": "ipython2",
   "version": "2.7.6"
  },
  "pycharm": {
   "stem_cell": {
    "cell_type": "raw",
    "source": [],
    "metadata": {
     "collapsed": false
    }
   }
  }
 },
 "nbformat": 4,
 "nbformat_minor": 0
}